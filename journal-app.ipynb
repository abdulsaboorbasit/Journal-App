{
 "cells": [
  {
   "cell_type": "code",
   "execution_count": 4,
   "metadata": {},
   "outputs": [
    {
     "name": "stdout",
     "output_type": "stream",
     "text": [
      "Welcome to Journal App\n",
      "Type 'quit' When you are done.\n",
      "Good Bye! Your Journal Ends Here.\n",
      "- Had a great day at the park!\n",
      "- Learn something new in python.\n",
      "New Entry: Learn something new in python.\n"
     ]
    }
   ],
   "source": [
    "print(\"Welcome to Journal App\")\n",
    "print(\"Type 'quit' When you are done.\")\n",
    "journal_entries = []\n",
    "while True:\n",
    "    new_entry = input(\"Enter New Journal Here\")\n",
    "    if new_entry.lower() == 'quit':\n",
    "        print(\"Good Bye! Your Journal Ends Here.\")\n",
    "        for entry in journal_entries:\n",
    "            print(\"-\", entry)\n",
    "        break\n",
    "    journal_entries.append(new_entry)\n",
    "print(f\"New Entry: {journal_entries[-1]}\")"
   ]
  }
 ],
 "metadata": {
  "kernelspec": {
   "display_name": "Python 3",
   "language": "python",
   "name": "python3"
  },
  "language_info": {
   "codemirror_mode": {
    "name": "ipython",
    "version": 3
   },
   "file_extension": ".py",
   "mimetype": "text/x-python",
   "name": "python",
   "nbconvert_exporter": "python",
   "pygments_lexer": "ipython3",
   "version": "3.12.4"
  }
 },
 "nbformat": 4,
 "nbformat_minor": 2
}
